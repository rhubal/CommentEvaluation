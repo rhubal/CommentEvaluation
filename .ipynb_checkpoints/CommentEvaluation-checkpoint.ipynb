{
 "cells": [
  {
   "cell_type": "code",
   "execution_count": null,
   "id": "55694dee",
   "metadata": {},
   "outputs": [],
   "source": [
    "import nltk\n",
    "import pandas\n",
    "import string\n",
    "\n",
    "from nltk.sentiment import SentimentIntensityAnalyzer as sia"
   ]
  },
  {
   "cell_type": "code",
   "execution_count": null,
   "id": "6a854f77",
   "metadata": {},
   "outputs": [],
   "source": [
    "nltk.download(['names', 'stopwords', 'state_union', 'averaged_perceptron_tagger', 'vader_lexicon'])"
   ]
  },
  {
   "cell_type": "code",
   "execution_count": null,
   "id": "587f8b37",
   "metadata": {},
   "outputs": [],
   "source": [
    "punct = '''!()-[]{};:'\"\\,<>./?@#$%^&*_~'''\n",
    "stopwords = nltk.corpus.stopwords.words('english')"
   ]
  },
  {
   "cell_type": "code",
   "execution_count": null,
   "id": "3371f94b",
   "metadata": {},
   "outputs": [],
   "source": [
    "high_cut = .6\n",
    "medium_cut = .25\n",
    "adjustment_value = .33\n",
    "\n",
    "def eval_weighting(w):\n",
    "    if w < -1 * high_cut:\n",
    "        return 'very negative'\n",
    "    elif w < -1 * medium_cut:\n",
    "        return 'negative'\n",
    "    elif w > high_cut:\n",
    "        return 'very positive'\n",
    "    elif w > medium_cut:\n",
    "        return 'positive'\n",
    "    else:\n",
    "        return 'neutral'"
   ]
  },
  {
   "cell_type": "code",
   "execution_count": null,
   "id": "ce87d840",
   "metadata": {},
   "outputs": [],
   "source": [
    "def clear_punctuation(s):\n",
    "    for e in s:\n",
    "        if e in punct:\n",
    "            s = s.replace(e, '')\n",
    "    return s"
   ]
  },
  {
   "cell_type": "code",
   "execution_count": null,
   "id": "85757c5e",
   "metadata": {},
   "outputs": [],
   "source": [
    "def clean_data(df):\n",
    "    for i in range(len(df)):\n",
    "        for j in range(len(df.columns)):\n",
    "            t = df.iloc[i, j]\n",
    "            if isinstance(t, str):\n",
    "                u = clear_punctuation(t.lower())\n",
    "                if u == 'na':\n",
    "                    df.iloc[i, j] = ''\n",
    "                else:\n",
    "                    df.iloc[i, j] = u\n",
    "            else:\n",
    "                df.iloc[i, j] = ''\n",
    "    return df"
   ]
  },
  {
   "cell_type": "code",
   "execution_count": null,
   "id": "b402e3a3",
   "metadata": {},
   "outputs": [],
   "source": [
    "pos_words = pandas.read_table('dictionaries/green terminology.txt', header=None)\n",
    "neg_words = pandas.read_table('dictionaries/red terminology.txt', header=None)\n",
    "\n",
    "pos_list = []\n",
    "for i in range(0, len(pos_words)):\n",
    "    pos_list.append(pos_words.iloc[i, 0])\n",
    "\n",
    "neg_list = []\n",
    "for i in range(0, len(neg_words)):\n",
    "    neg_list.append(neg_words.iloc[i, 0])"
   ]
  },
  {
   "cell_type": "code",
   "execution_count": null,
   "id": "e2af1cb3",
   "metadata": {},
   "outputs": [],
   "source": [
    "df = pandas.read_excel('data/test_file.xlsx')\n",
    "df = clean_data(df)"
   ]
  },
  {
   "cell_type": "code",
   "execution_count": null,
   "id": "5f20427f",
   "metadata": {},
   "outputs": [],
   "source": [
    "sii = sia()\n",
    "weights = []\n",
    "\n",
    "for i in range(0, len(df)):\n",
    "\n",
    "    w = 0\n",
    "\n",
    "    for j in range(1, len(df.columns)):\n",
    "\n",
    "        # words = [w for w in test_str.split() if w.isalpha() and w.lower() not in stopwords]\n",
    "        test_str = clear_punctuation(df.iloc[i, j])\n",
    "        r = 0\n",
    "\n",
    "        for p in pos_list:\n",
    "            if p in test_str:\n",
    "                r = min(1, r + adjustment_value)\n",
    "\n",
    "        for n in neg_list:\n",
    "            if n in test_str:\n",
    "                r = max(-1, r - adjustment_value)\n",
    "\n",
    "        if r == 0:\n",
    "            r = sii.polarity_scores(test_str)['compound']\n",
    "\n",
    "        w = w + r\n",
    "\n",
    "    weights.append(eval_weighting(w / len(df.columns)))\n",
    "\n",
    "print(weights)"
   ]
  },
  {
   "cell_type": "code",
   "execution_count": null,
   "id": "db05d33a",
   "metadata": {},
   "outputs": [],
   "source": []
  }
 ],
 "metadata": {
  "kernelspec": {
   "display_name": "Python 3 (ipykernel)",
   "language": "python",
   "name": "python3"
  },
  "language_info": {
   "codemirror_mode": {
    "name": "ipython",
    "version": 3
   },
   "file_extension": ".py",
   "mimetype": "text/x-python",
   "name": "python",
   "nbconvert_exporter": "python",
   "pygments_lexer": "ipython3",
   "version": "3.9.12"
  }
 },
 "nbformat": 4,
 "nbformat_minor": 5
}
