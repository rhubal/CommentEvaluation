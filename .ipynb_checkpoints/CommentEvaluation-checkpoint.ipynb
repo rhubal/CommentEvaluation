{
 "cells": [
  {
   "cell_type": "code",
   "execution_count": null,
   "id": "bd437a63",
   "metadata": {},
   "outputs": [],
   "source": [
    "import nltk\n",
    "import pandas\n",
    "import string\n",
    "import xlwt\n",
    "\n",
    "from nltk.sentiment import SentimentIntensityAnalyzer as sia"
   ]
  },
  {
   "cell_type": "code",
   "execution_count": null,
   "id": "064b76b3",
   "metadata": {},
   "outputs": [],
   "source": [
    "nltk.download(['names', 'stopwords', 'state_union', 'averaged_perceptron_tagger', 'vader_lexicon'])\n",
    "\n",
    "punct = '''!()-[]{};:'\"\\,<>./?@#$%^&*_~'''\n",
    "stopwords = nltk.corpus.stopwords.words('english')"
   ]
  },
  {
   "cell_type": "code",
   "execution_count": null,
   "id": "8eadf24d",
   "metadata": {},
   "outputs": [],
   "source": [
    "medium_cut = .05 # seems to be standard in literature for VADER compound score\n",
    "high_cut = .2 # guess at reasonable value\n",
    "adjustment_value = .067 # more than three net positive/negative statements imply high cutoff\n",
    "\n",
    "def eval_weighting(w):\n",
    "    if w < -1 * high_cut:\n",
    "        return 'very negative'\n",
    "    elif w < -1 * medium_cut:\n",
    "        return 'negative'\n",
    "    elif w > high_cut:\n",
    "        return 'very positive'\n",
    "    elif w > medium_cut:\n",
    "        return 'positive'\n",
    "    else:\n",
    "        return 'neutral'"
   ]
  },
  {
   "cell_type": "code",
   "execution_count": null,
   "id": "ece2fada",
   "metadata": {},
   "outputs": [],
   "source": [
    "def clear_punctuation(s):\n",
    "    for e in s:\n",
    "        if e in punct:\n",
    "            s = s.replace(e, '')\n",
    "    return s"
   ]
  },
  {
   "cell_type": "code",
   "execution_count": null,
   "id": "18bbd341",
   "metadata": {},
   "outputs": [],
   "source": [
    "def clean_data(df, cols):\n",
    "    for i in cols:\n",
    "        for j in range(len(df.columns)):\n",
    "            t = df.iloc[i, j]\n",
    "            if isinstance(t, str):\n",
    "                u = clear_punctuation(t.lower())\n",
    "                if u == 'na':\n",
    "                    df.iloc[i, j] = ''\n",
    "                else:\n",
    "                    df.iloc[i, j] = u\n",
    "            else:\n",
    "                df.iloc[i, j] = ''\n",
    "    return df"
   ]
  },
  {
   "cell_type": "code",
   "execution_count": null,
   "id": "e8425470",
   "metadata": {},
   "outputs": [],
   "source": [
    "def get_col_index(df, s):\n",
    "    for h in list(df.columns):\n",
    "        if s in h:\n",
    "            return df.columns.get_loc(h)"
   ]
  },
  {
   "cell_type": "code",
   "execution_count": null,
   "id": "53200885",
   "metadata": {},
   "outputs": [],
   "source": [
    "pos_words = pandas.read_table('dictionaries/green terminology.txt', header=None)\n",
    "neg_words = pandas.read_table('dictionaries/red terminology.txt', header=None)\n",
    "\n",
    "pos_list = []\n",
    "for i in range(0, len(pos_words)):\n",
    "    pos_list.append(pos_words.iloc[i, 0])\n",
    "\n",
    "neg_list = []\n",
    "for i in range(0, len(neg_words)):\n",
    "    neg_list.append(neg_words.iloc[i, 0])"
   ]
  },
  {
   "cell_type": "code",
   "execution_count": null,
   "id": "64c6b5c9",
   "metadata": {},
   "outputs": [],
   "source": [
    "df = pandas.read_excel('data/21-22 Student evaluation of site (Qualitative and Quantitative).xlsx')\n",
    "\n",
    "cols_of_interest = [\n",
    "    get_col_index(df, 'strengths of this experience'),\n",
    "    get_col_index(df, 'better learning experience'),\n",
    "    get_col_index(df, 'Nothing further to add')]\n",
    "\n",
    "df = clean_data(df, cols_of_interest)"
   ]
  },
  {
   "cell_type": "code",
   "execution_count": null,
   "id": "1e62d13d",
   "metadata": {},
   "outputs": [],
   "source": [
    "sii = sia()\n",
    "weights = []\n",
    "\n",
    "for i in range(0, len(df)):\n",
    "\n",
    "    w = 0\n",
    "\n",
    "    for j in cols_of_interest:\n",
    "\n",
    "        if isinstance(df.iloc[i, j], str):\n",
    "\n",
    "            test_str = clear_punctuation(df.iloc[i, j])\n",
    "            # words = [w for w in test_str.split() if w.isalpha() and w.lower() not in stopwords]\n",
    "            r = 0\n",
    "\n",
    "            for p in pos_list:\n",
    "                if p in test_str:\n",
    "                    r = min(1, r + adjustment_value)\n",
    "\n",
    "            for n in neg_list:\n",
    "                if n in test_str:\n",
    "                    r = max(-1, r - adjustment_value)\n",
    "\n",
    "            if r == 0:\n",
    "                r = sii.polarity_scores(test_str)['compound']\n",
    "\n",
    "            w = w + r\n",
    "\n",
    "    weights.append(eval_weighting(w / len(cols_of_interest)))"
   ]
  },
  {
   "cell_type": "code",
   "execution_count": null,
   "id": "cc334675",
   "metadata": {},
   "outputs": [],
   "source": [
    "df['Semantic value'] = weights\n",
    "df.to_excel('data/tmp.xls')"
   ]
  },
  {
   "cell_type": "code",
   "execution_count": null,
   "id": "c26e7198",
   "metadata": {},
   "outputs": [],
   "source": []
  }
 ],
 "metadata": {
  "kernelspec": {
   "display_name": "Python 3 (ipykernel)",
   "language": "python",
   "name": "python3"
  },
  "language_info": {
   "codemirror_mode": {
    "name": "ipython",
    "version": 3
   },
   "file_extension": ".py",
   "mimetype": "text/x-python",
   "name": "python",
   "nbconvert_exporter": "python",
   "pygments_lexer": "ipython3",
   "version": "3.9.12"
  }
 },
 "nbformat": 4,
 "nbformat_minor": 5
}
