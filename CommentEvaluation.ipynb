{
 "cells": [
  {
   "cell_type": "code",
   "execution_count": 1,
   "id": "bd437a63",
   "metadata": {},
   "outputs": [],
   "source": [
    "import nltk\n",
    "import pandas\n",
    "import string\n",
    "\n",
    "from nltk.sentiment import SentimentIntensityAnalyzer as sia"
   ]
  },
  {
   "cell_type": "code",
   "execution_count": 2,
   "id": "064b76b3",
   "metadata": {},
   "outputs": [
    {
     "name": "stderr",
     "output_type": "stream",
     "text": [
      "[nltk_data] Downloading package names to\n",
      "[nltk_data]     C:\\Users\\hubalr\\AppData\\Roaming\\nltk_data...\n",
      "[nltk_data]   Package names is already up-to-date!\n",
      "[nltk_data] Downloading package stopwords to\n",
      "[nltk_data]     C:\\Users\\hubalr\\AppData\\Roaming\\nltk_data...\n",
      "[nltk_data]   Package stopwords is already up-to-date!\n",
      "[nltk_data] Downloading package state_union to\n",
      "[nltk_data]     C:\\Users\\hubalr\\AppData\\Roaming\\nltk_data...\n",
      "[nltk_data]   Package state_union is already up-to-date!\n",
      "[nltk_data] Downloading package averaged_perceptron_tagger to\n",
      "[nltk_data]     C:\\Users\\hubalr\\AppData\\Roaming\\nltk_data...\n",
      "[nltk_data]   Package averaged_perceptron_tagger is already up-to-\n",
      "[nltk_data]       date!\n",
      "[nltk_data] Downloading package vader_lexicon to\n",
      "[nltk_data]     C:\\Users\\hubalr\\AppData\\Roaming\\nltk_data...\n",
      "[nltk_data]   Package vader_lexicon is already up-to-date!\n"
     ]
    },
    {
     "data": {
      "text/plain": [
       "True"
      ]
     },
     "execution_count": 2,
     "metadata": {},
     "output_type": "execute_result"
    }
   ],
   "source": [
    "nltk.download(['names', 'stopwords', 'state_union', 'averaged_perceptron_tagger', 'vader_lexicon'])"
   ]
  },
  {
   "cell_type": "code",
   "execution_count": 3,
   "id": "3b6ccdfb",
   "metadata": {},
   "outputs": [],
   "source": [
    "punct = '''!()-[]{};:'\"\\,<>./?@#$%^&*_~'''\n",
    "stopwords = nltk.corpus.stopwords.words('english')"
   ]
  },
  {
   "cell_type": "code",
   "execution_count": 4,
   "id": "8eadf24d",
   "metadata": {},
   "outputs": [],
   "source": [
    "high_cut = .6\n",
    "medium_cut = .25\n",
    "adjustment_value = .33\n",
    "\n",
    "def eval_weighting(w):\n",
    "    if w < -1 * high_cut:\n",
    "        return 'very negative'\n",
    "    elif w < -1 * medium_cut:\n",
    "        return 'negative'\n",
    "    elif w > high_cut:\n",
    "        return 'very positive'\n",
    "    elif w > medium_cut:\n",
    "        return 'positive'\n",
    "    else:\n",
    "        return 'neutral'"
   ]
  },
  {
   "cell_type": "code",
   "execution_count": 5,
   "id": "ece2fada",
   "metadata": {},
   "outputs": [],
   "source": [
    "def clear_punctuation(s):\n",
    "    for e in s:\n",
    "        if e in punct:\n",
    "            s = s.replace(e, '')\n",
    "    return s"
   ]
  },
  {
   "cell_type": "code",
   "execution_count": 6,
   "id": "18bbd341",
   "metadata": {},
   "outputs": [],
   "source": [
    "def clean_data(df):\n",
    "    for i in range(len(df)):\n",
    "        for j in range(len(df.columns)):\n",
    "            t = df.iloc[i, j]\n",
    "            if isinstance(t, str):\n",
    "                u = clear_punctuation(t.lower())\n",
    "                if u == 'na':\n",
    "                    df.iloc[i, j] = ''\n",
    "                else:\n",
    "                    df.iloc[i, j] = u\n",
    "            else:\n",
    "                df.iloc[i, j] = ''\n",
    "    return df"
   ]
  },
  {
   "cell_type": "code",
   "execution_count": 7,
   "id": "53200885",
   "metadata": {},
   "outputs": [],
   "source": [
    "pos_words = pandas.read_table('dictionaries/green terminology.txt', header=None)\n",
    "neg_words = pandas.read_table('dictionaries/red terminology.txt', header=None)\n",
    "\n",
    "pos_list = []\n",
    "for i in range(0, len(pos_words)):\n",
    "    pos_list.append(pos_words.iloc[i, 0])\n",
    "\n",
    "neg_list = []\n",
    "for i in range(0, len(neg_words)):\n",
    "    neg_list.append(neg_words.iloc[i, 0])"
   ]
  },
  {
   "cell_type": "code",
   "execution_count": 8,
   "id": "64c6b5c9",
   "metadata": {},
   "outputs": [],
   "source": [
    "df = pandas.read_excel('data/test_file.xlsx')\n",
    "df = clean_data(df)"
   ]
  },
  {
   "cell_type": "code",
   "execution_count": 9,
   "id": "1e62d13d",
   "metadata": {},
   "outputs": [
    {
     "name": "stdout",
     "output_type": "stream",
     "text": [
      "['positive', 'neutral', 'positive', 'positive', 'neutral', 'neutral', 'neutral', 'neutral', 'positive', 'neutral', 'neutral', 'neutral', 'neutral', 'positive', 'neutral', 'positive', 'positive', 'negative', 'negative', 'positive', 'neutral', 'neutral', 'negative', 'neutral', 'positive', 'neutral', 'positive', 'neutral', 'positive', 'neutral', 'positive', 'positive', 'neutral', 'neutral', 'neutral', 'neutral', 'neutral', 'negative', 'neutral', 'neutral', 'neutral', 'neutral', 'neutral', 'neutral', 'positive', 'positive', 'positive', 'positive', 'neutral', 'positive', 'neutral', 'neutral', 'very positive', 'neutral', 'neutral', 'neutral', 'positive', 'positive', 'neutral', 'neutral', 'neutral', 'positive', 'positive', 'neutral', 'positive', 'neutral', 'positive', 'neutral', 'positive', 'neutral', 'neutral', 'positive', 'positive', 'negative', 'neutral', 'positive', 'negative', 'positive', 'neutral', 'neutral', 'positive', 'positive', 'neutral', 'positive', 'neutral', 'positive', 'positive', 'neutral', 'neutral', 'neutral', 'neutral', 'neutral', 'positive', 'neutral', 'neutral', 'neutral', 'neutral', 'positive', 'neutral', 'neutral']\n"
     ]
    }
   ],
   "source": [
    "sii = sia()\n",
    "weights = []\n",
    "\n",
    "for i in range(0, len(df)):\n",
    "\n",
    "    w = 0\n",
    "\n",
    "    for j in range(1, len(df.columns)):\n",
    "\n",
    "        # words = [w for w in test_str.split() if w.isalpha() and w.lower() not in stopwords]\n",
    "        test_str = clear_punctuation(df.iloc[i, j])\n",
    "        r = 0\n",
    "\n",
    "        for p in pos_list:\n",
    "            if p in test_str:\n",
    "                r = min(1, r + adjustment_value)\n",
    "\n",
    "        for n in neg_list:\n",
    "            if n in test_str:\n",
    "                r = max(-1, r - adjustment_value)\n",
    "\n",
    "        if r == 0:\n",
    "            r = sii.polarity_scores(test_str)['compound']\n",
    "\n",
    "        w = w + r\n",
    "\n",
    "    weights.append(eval_weighting(w / len(df.columns)))\n",
    "\n",
    "print(weights)"
   ]
  },
  {
   "cell_type": "code",
   "execution_count": null,
   "id": "cc334675",
   "metadata": {},
   "outputs": [],
   "source": []
  }
 ],
 "metadata": {
  "kernelspec": {
   "display_name": "Python 3 (ipykernel)",
   "language": "python",
   "name": "python3"
  },
  "language_info": {
   "codemirror_mode": {
    "name": "ipython",
    "version": 3
   },
   "file_extension": ".py",
   "mimetype": "text/x-python",
   "name": "python",
   "nbconvert_exporter": "python",
   "pygments_lexer": "ipython3",
   "version": "3.9.12"
  }
 },
 "nbformat": 4,
 "nbformat_minor": 5
}
