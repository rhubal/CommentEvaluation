{
 "cells": [
  {
   "cell_type": "code",
   "execution_count": null,
   "id": "bd437a63",
   "metadata": {},
   "outputs": [],
   "source": [
    "import nltk\n",
    "import numpy\n",
    "import openpyxl\n",
    "import pandas\n",
    "import string\n",
    "\n",
    "from ipyfilechooser import FileChooser\n",
    "from nltk.sentiment import SentimentIntensityAnalyzer as sia\n",
    "from openpyxl.utils.dataframe import dataframe_to_rows as df2r\n",
    "\n",
    "pandas.options.mode.chained_assignment = None # suppress warning"
   ]
  },
  {
   "cell_type": "code",
   "execution_count": null,
   "id": "064b76b3",
   "metadata": {},
   "outputs": [],
   "source": [
    "nltk.download(['names', 'stopwords', 'state_union', 'averaged_perceptron_tagger', 'vader_lexicon'], quiet=True)\n",
    "\n",
    "punct = '''!()-[]{};:'\"\\,<>./?@#$%^&*_~'''\n",
    "stopwords = nltk.corpus.stopwords.words('english')"
   ]
  },
  {
   "cell_type": "code",
   "execution_count": null,
   "id": "0f30007f",
   "metadata": {},
   "outputs": [],
   "source": [
    "n = numpy.nan"
   ]
  },
  {
   "cell_type": "code",
   "execution_count": null,
   "id": "8eadf24d",
   "metadata": {},
   "outputs": [],
   "source": [
    "medium_cut = .05 # seems to be standard in literature for VADER compound score\n",
    "high_cut = .2 # guess at reasonable value\n",
    "adjustment_value = .067 # more than three net positive/negative statements imply high cutoff\n",
    "\n",
    "def eval_weighting(w):\n",
    "    if w < -1 * high_cut:\n",
    "        return 'Very negative'\n",
    "    elif w < -1 * medium_cut:\n",
    "        return 'Negative'\n",
    "    elif w > high_cut:\n",
    "        return 'Very positive'\n",
    "    elif w > medium_cut:\n",
    "        return 'Positive'\n",
    "    else:\n",
    "        return 'Neutral'"
   ]
  },
  {
   "cell_type": "code",
   "execution_count": null,
   "id": "ece2fada",
   "metadata": {},
   "outputs": [],
   "source": [
    "def clear_punctuation(s):\n",
    "    for e in s:\n",
    "        if e in punct:\n",
    "            s = s.replace(e, '')\n",
    "    return s"
   ]
  },
  {
   "cell_type": "code",
   "execution_count": null,
   "id": "18bbd341",
   "metadata": {},
   "outputs": [],
   "source": [
    "def clean_data(df, cols): # prepare cells for analysis\n",
    "    for i in cols:\n",
    "        for j in range(len(df.columns)):\n",
    "            t = df.iloc[i, j]\n",
    "            if isinstance(t, str):\n",
    "                u = clear_punctuation(t.strip().lower())\n",
    "                if u == 'na':\n",
    "                    df.iloc[i, j] = ''\n",
    "                else:\n",
    "                    df.iloc[i, j] = u\n",
    "            else:\n",
    "                df.iloc[i, j] = ''\n",
    "    return df"
   ]
  },
  {
   "cell_type": "code",
   "execution_count": null,
   "id": "e8425470",
   "metadata": {},
   "outputs": [],
   "source": [
    "def get_col_index(df, s): # find which column holds a string\n",
    "    for h in list(df.columns):\n",
    "        if s in h:\n",
    "            return df.columns.get_loc(h)"
   ]
  },
  {
   "cell_type": "code",
   "execution_count": null,
   "id": "bb063e09",
   "metadata": {},
   "outputs": [],
   "source": [
    "def clean_filename(s):\n",
    "    f = ''.join(c for c in s if (c.isalnum() or c in '._- '))\n",
    "    return f"
   ]
  },
  {
   "cell_type": "code",
   "execution_count": null,
   "id": "53200885",
   "metadata": {},
   "outputs": [],
   "source": [
    "pos_words = pandas.read_table('dictionaries/green terminology.txt', header=None)\n",
    "neg_words = pandas.read_table('dictionaries/red terminology.txt', header=None)\n",
    "\n",
    "pos_list = []\n",
    "pos_weight = []\n",
    "for i in range(0, len(pos_words)):\n",
    "    if pos_words.iloc[i, 1] != 0: # ignore entries with zero weight\n",
    "        pos_list.append(pos_words.iloc[i, 0])\n",
    "        pos_weight.append(pos_words.iloc[i, 1])\n",
    "\n",
    "neg_list = []\n",
    "neg_weight = []\n",
    "for i in range(0, len(neg_words)):\n",
    "    if neg_words.iloc[i, 1] != 0:\n",
    "        neg_list.append(neg_words.iloc[i, 0])\n",
    "        neg_weight.append(neg_words.iloc[i, 1])"
   ]
  },
  {
   "cell_type": "code",
   "execution_count": null,
   "id": "d70081b9",
   "metadata": {},
   "outputs": [],
   "source": [
    "fc = FileChooser('data')\n",
    "display(fc)"
   ]
  },
  {
   "cell_type": "code",
   "execution_count": null,
   "id": "64c6b5c9",
   "metadata": {},
   "outputs": [],
   "source": [
    "df = pandas.read_excel(fc.selected)\n",
    "\n",
    "cols_of_interest = [\n",
    "    get_col_index(df, 'strengths of this experience'),\n",
    "    get_col_index(df, 'better learning experience'),\n",
    "    get_col_index(df, 'Nothing further to add')]\n",
    "\n",
    "col_weighting = [.95, 1.025, 1.025] # slightly overweight 'negative' and additional comments \n",
    "\n",
    "df = clean_data(df, cols_of_interest)"
   ]
  },
  {
   "cell_type": "code",
   "execution_count": null,
   "id": "cbe3328c",
   "metadata": {},
   "outputs": [],
   "source": [
    "def combine_weightings(l, s):\n",
    "    # first parameter is lexical/syntactic score\n",
    "    # second parameter is sentiment score\n",
    "    w = 1 * l + 0 * s\n",
    "    return w"
   ]
  },
  {
   "cell_type": "code",
   "execution_count": null,
   "id": "1e62d13d",
   "metadata": {},
   "outputs": [],
   "source": [
    "sii = sia()\n",
    "weights = []\n",
    "evals = []\n",
    "\n",
    "needed_matches = 1 # seek sufficient number of lexical/syntactic matches\n",
    "\n",
    "for i in range(0, len(df)):\n",
    "\n",
    "    w = 0\n",
    "\n",
    "    for j in cols_of_interest:\n",
    "\n",
    "        if isinstance(df.iloc[i, j], str):\n",
    "\n",
    "            t = clear_punctuation(df.iloc[i, j])\n",
    "            r = 0\n",
    "            b = 0\n",
    "\n",
    "            x = cols_of_interest.index(j)\n",
    "\n",
    "            for k, p in enumerate(pos_list):\n",
    "                if p in t:\n",
    "                    b += 1\n",
    "                    r = min(1, r + adjustment_value * pos_weight[k] * col_weighting[x])\n",
    "\n",
    "            for l, n in enumerate(neg_list):\n",
    "                if n in t:\n",
    "                    b += 1\n",
    "                    r = max(-1, r - adjustment_value * neg_weight[l] * col_weighting[x])\n",
    "\n",
    "            # t = [w for w in t.split() if w.isalpha() and w.lower() not in stopwords]\n",
    "            p = sii.polarity_scores(t)['compound']\n",
    "\n",
    "            if b < needed_matches:\n",
    "                r = p\n",
    "            else:\n",
    "                r = combine_weightings(r, p)\n",
    "\n",
    "            w = w + r\n",
    "\n",
    "    weights.append(w / len(cols_of_interest))\n",
    "    evals.append(eval_weighting(w / len(cols_of_interest)))"
   ]
  },
  {
   "cell_type": "code",
   "execution_count": null,
   "id": "45e7f7d6",
   "metadata": {},
   "outputs": [],
   "source": [
    "f = input(\"What is the name of the output file? \")\n",
    "f = clean_filename(f)"
   ]
  },
  {
   "cell_type": "code",
   "execution_count": null,
   "id": "f86cd772",
   "metadata": {},
   "outputs": [],
   "source": [
    "# for training data\n",
    "cols_of_interest.append(get_col_index(df, 'Rating'))"
   ]
  },
  {
   "cell_type": "code",
   "execution_count": null,
   "id": "b9e1d30b",
   "metadata": {},
   "outputs": [],
   "source": [
    "#for test data\n",
    "cols_of_interest.append(get_col_index(df, 'Quality of Interactions during Experience AVG'))\n",
    "cols_of_interest.append(get_col_index(df, 'Quality of Preceptor/Preceptor Team AVG'))\n",
    "cols_of_interest.append(get_col_index(df, 'Quality of Site AVG'))"
   ]
  },
  {
   "cell_type": "code",
   "execution_count": null,
   "id": "cc334675",
   "metadata": {},
   "outputs": [],
   "source": [
    "df2 = df.iloc[:, cols_of_interest]"
   ]
  },
  {
   "cell_type": "code",
   "execution_count": null,
   "id": "8cb406d5",
   "metadata": {},
   "outputs": [],
   "source": [
    "# for test data\n",
    "df2['Overall Quality'] = df.iloc[:, cols_of_interest[-3:]].sum(axis=1)\n",
    "df2[df2['Overall Quality'].eq('')] = n"
   ]
  },
  {
   "cell_type": "code",
   "execution_count": null,
   "id": "ea606113",
   "metadata": {},
   "outputs": [],
   "source": [
    "df2['Semantic Value'] = weights\n",
    "df2['Semantic Evaluation'] = evals\n",
    "\n",
    "wb = openpyxl.Workbook()\n",
    "ws = wb.active\n",
    "rows = df2r(df2, index=False)\n",
    "\n",
    "for i, row in enumerate(rows, 1):\n",
    "    for j, val in enumerate(row, 1):\n",
    "         ws.cell(row=i, column=j, value=val)\n",
    "\n",
    "wb.save('data/' + f + '.xlsx')"
   ]
  },
  {
   "cell_type": "code",
   "execution_count": null,
   "id": "fb9ee4bf",
   "metadata": {},
   "outputs": [],
   "source": []
  }
 ],
 "metadata": {
  "kernelspec": {
   "display_name": "Python 3 (ipykernel)",
   "language": "python",
   "name": "python3"
  },
  "language_info": {
   "codemirror_mode": {
    "name": "ipython",
    "version": 3
   },
   "file_extension": ".py",
   "mimetype": "text/x-python",
   "name": "python",
   "nbconvert_exporter": "python",
   "pygments_lexer": "ipython3",
   "version": "3.9.12"
  }
 },
 "nbformat": 4,
 "nbformat_minor": 5
}
